{
  "nbformat": 4,
  "nbformat_minor": 0,
  "metadata": {
    "colab": {
      "name": "AIFFEL_kaggle.ipynb",
      "provenance": [],
      "authorship_tag": "ABX9TyM8Z6375pxPMC8YsCWTBRih",
      "include_colab_link": true
    },
    "kernelspec": {
      "name": "python3",
      "display_name": "Python 3"
    },
    "language_info": {
      "name": "python"
    }
  },
  "cells": [
    {
      "cell_type": "markdown",
      "metadata": {
        "id": "view-in-github",
        "colab_type": "text"
      },
      "source": [
        "<a href=\"https://colab.research.google.com/github/milan-d/first-repository/blob/master/AIFFEL_kaggle.ipynb\" target=\"_parent\"><img src=\"https://colab.research.google.com/assets/colab-badge.svg\" alt=\"Open In Colab\"/></a>"
      ]
    },
    {
      "cell_type": "code",
      "metadata": {
        "colab": {
          "base_uri": "https://localhost:8080/"
        },
        "id": "9ybTd5H4JM0P",
        "outputId": "b6a817f6-5793-4dee-9579-a49b5c3bcf9d"
      },
      "source": [
        "!git clone https://github.com/milan-d/Aiffel_Kaggle.gitb"
      ],
      "execution_count": 1,
      "outputs": [
        {
          "output_type": "stream",
          "text": [
            "Cloning into 'Aiffel_Kaggle'...\n",
            "remote: Enumerating objects: 4, done.\u001b[K\n",
            "remote: Counting objects: 100% (4/4), done.\u001b[K\n",
            "remote: Compressing objects: 100% (3/3), done.\u001b[K\n",
            "remote: Total 4 (delta 0), reused 4 (delta 0), pack-reused 0\u001b[K\n",
            "Unpacking objects: 100% (4/4), done.\n"
          ],
          "name": "stdout"
        }
      ]
    },
    {
      "cell_type": "code",
      "metadata": {
        "colab": {
          "base_uri": "https://localhost:8080/"
        },
        "id": "_8CEA-tCJ28S",
        "outputId": "5e0b17ab-0419-47e1-b671-1e4178ff2c62"
      },
      "source": [
        "!ls -ltr"
      ],
      "execution_count": 2,
      "outputs": [
        {
          "output_type": "stream",
          "text": [
            "total 8\n",
            "drwxr-xr-x 1 root root 4096 Jul 16 13:20 sample_data\n",
            "drwxr-xr-x 3 root root 4096 Aug  4 03:13 Aiffel_Kaggle\n"
          ],
          "name": "stdout"
        }
      ]
    }
  ]
}